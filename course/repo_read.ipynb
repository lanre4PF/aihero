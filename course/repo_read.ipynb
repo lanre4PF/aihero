{
 "cells": [
  {
   "cell_type": "code",
   "execution_count": 2,
   "id": "1d6aab77-7c37-4eff-b6c0-f9e13cefa861",
   "metadata": {},
   "outputs": [],
   "source": [
    "import frontmatter "
   ]
  },
  {
   "cell_type": "code",
   "execution_count": 7,
   "id": "6d121d5c-d0e1-4daf-9853-9f332b26adbd",
   "metadata": {},
   "outputs": [
    {
     "name": "stdout",
     "output_type": "stream",
     "text": [
      "Getting Started with AI\n",
      "['ai', 'machine-learning', 'tutorial']\n",
      "# Getting Started with AI\n",
      "\n",
      "This is the main content of the document written in **Markdown**.\n",
      "\n",
      "You can include code blocks, links, and other formatting here.\n"
     ]
    }
   ],
   "source": [
    "with open (\"example.md\", \"r\", encoding = \"utf-8\") as f: \n",
    "    post = frontmatter.load(f)\n",
    "    \n",
    "print(post.metadata[\"title\"])\n",
    "print(post.metadata[\"tags\"])\n",
    "\n",
    "print(post.content) "
   ]
  },
  {
   "cell_type": "code",
   "execution_count": 8,
   "id": "a698c913-f0d7-412c-adc3-8f05a5c0e3db",
   "metadata": {},
   "outputs": [
    {
     "name": "stdout",
     "output_type": "stream",
     "text": [
      "{'title': 'Getting Started with AI', 'author': 'John Doe', 'date': '2024-01-15', 'tags': ['ai', 'machine-learning', 'tutorial'], 'difficulty': 'beginner', 'content': '# Getting Started with AI\\n\\nThis is the main content of the document written in **Markdown**.\\n\\nYou can include code blocks, links, and other formatting here.'}\n"
     ]
    }
   ],
   "source": [
    "print(post.to_dict())"
   ]
  },
  {
   "cell_type": "code",
   "execution_count": 9,
   "id": "8bf91a97-d9ff-4f42-b4a7-4774e8aa7260",
   "metadata": {},
   "outputs": [],
   "source": [
    "import io \n",
    "import zipfile \n",
    "import requests \n",
    "import frontmatter \n"
   ]
  },
  {
   "cell_type": "code",
   "execution_count": 10,
   "id": "f56e5372-59a3-4dbe-8e1b-02a11501fdd1",
   "metadata": {},
   "outputs": [],
   "source": [
    "url = 'https://codeload.github.com/DataTalksClub/faq/zip/refs/heads/main'\n",
    "resp = requests.get(url)\n"
   ]
  },
  {
   "cell_type": "code",
   "execution_count": 11,
   "id": "3bc61090-efbf-4cf9-a3ec-807c884f6d7d",
   "metadata": {},
   "outputs": [],
   "source": [
    "repository_data = []\n",
    "\n",
    "# Create a ZipFile object from the downloaded content\n",
    "zf = zipfile.ZipFile(io.BytesIO(resp.content))\n",
    "\n",
    "for file_info in zf.infolist():\n",
    "    filename = file_info.filename.lower()\n",
    "\n",
    "    # Only process markdown files\n",
    "    if not filename.endswith('.md'):\n",
    "        continue\n",
    "\n",
    "    # Read and parse each file\n",
    "    with zf.open(file_info) as f_in:\n",
    "        content = f_in.read()\n",
    "        post = frontmatter.loads(content)\n",
    "        data = post.to_dict()\n",
    "        data['filename'] = filename\n",
    "        repository_data.append(data)\n",
    "\n",
    "zf.close()\n"
   ]
  },
  {
   "cell_type": "code",
   "execution_count": 12,
   "id": "99f4fd96-895d-4d02-ae52-217a3de115c2",
   "metadata": {},
   "outputs": [
    {
     "name": "stdout",
     "output_type": "stream",
     "text": [
      "{'id': '9e508f2212', 'question': 'Course: When does the course start?', 'sort_order': 1, 'content': \"The next cohort starts January 13th, 2025. More info at [DTC](https://datatalks.club/blog/guide-to-free-online-courses-at-datatalks-club.html).\\n\\n- Register before the course starts using this [link](https://airtable.com/shr6oVXeQvSI5HuWD).\\n- Join the [course Telegram channel with announcements](https://t.me/dezoomcamp).\\n- Don’t forget to register in DataTalks.Club's Slack and join the channel.\", 'filename': 'faq-main/_questions/data-engineering-zoomcamp/general/001_9e508f2212_course-when-does-the-course-start.md'}\n"
     ]
    }
   ],
   "source": [
    "print(repository_data[1])"
   ]
  },
  {
   "cell_type": "code",
   "execution_count": null,
   "id": "cab108fd-3b67-435c-adce-a797f0e051c1",
   "metadata": {},
   "outputs": [],
   "source": []
  }
 ],
 "metadata": {
  "kernelspec": {
   "display_name": "Python 3 (ipykernel)",
   "language": "python",
   "name": "python3"
  },
  "language_info": {
   "codemirror_mode": {
    "name": "ipython",
    "version": 3
   },
   "file_extension": ".py",
   "mimetype": "text/x-python",
   "name": "python",
   "nbconvert_exporter": "python",
   "pygments_lexer": "ipython3",
   "version": "3.10.5"
  }
 },
 "nbformat": 4,
 "nbformat_minor": 5
}
