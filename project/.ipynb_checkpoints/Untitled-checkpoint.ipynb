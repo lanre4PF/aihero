{
 "cells": [
  {
   "cell_type": "code",
   "execution_count": 1,
   "id": "18591fc3-65bb-4539-bf51-d6477db34c8c",
   "metadata": {},
   "outputs": [],
   "source": [
    "import io\n",
    "import zipfile\n",
    "import requests\n",
    "import frontmatter\n",
    "\n",
    "def read_repo_data(repo_owner, repo_name):\n",
    "    \"\"\"\n",
    "    Download and parse all markdown files from a GitHub repository.\n",
    "    \n",
    "    Args:\n",
    "        repo_owner: GitHub username or organization\n",
    "        repo_name: Repository name\n",
    "    \n",
    "    Returns:\n",
    "        List of dictionaries containing file content and metadata\n",
    "    \"\"\"\n",
    "    prefix = 'https://codeload.github.com' \n",
    "    url = f'{prefix}/{repo_owner}/{repo_name}/zip/refs/heads/main'\n",
    "    resp = requests.get(url)\n",
    "    \n",
    "    if resp.status_code != 200:\n",
    "        raise Exception(f\"Failed to download repository: {resp.status_code}\")\n",
    "\n",
    "    repository_data = []\n",
    "    zf = zipfile.ZipFile(io.BytesIO(resp.content))\n",
    "    \n",
    "    for file_info in zf.infolist():\n",
    "        filename = file_info.filename\n",
    "        filename_lower = filename.lower()\n",
    "\n",
    "        if not (filename_lower.endswith('.md') \n",
    "            or filename_lower.endswith('.mdx')):\n",
    "            continue\n",
    "    \n",
    "        try:\n",
    "            with zf.open(file_info) as f_in:\n",
    "                content = f_in.read().decode('utf-8', errors='ignore')\n",
    "                post = frontmatter.loads(content)\n",
    "                data = post.to_dict()\n",
    "                data['filename'] = filename\n",
    "                repository_data.append(data)\n",
    "        except Exception as e:\n",
    "            print(f\"Error processing {filename}: {e}\")\n",
    "            continue\n",
    "    \n",
    "    zf.close()\n",
    "    return repository_data\n"
   ]
  },
  {
   "cell_type": "code",
   "execution_count": 2,
   "id": "dfa064cc-086d-4599-bd53-3daf0705769a",
   "metadata": {},
   "outputs": [
    {
     "name": "stdout",
     "output_type": "stream",
     "text": [
      "1\n",
      "1\n"
     ]
    }
   ],
   "source": [
    "houseprices = read_repo_data('lanre4PF', \"House-Price-Prediction-Ames-Housing-Dataset-\")\n",
    "alien_invasion = read_repo_data('lanre4PF', \"Alien-invasion-clone-\")\n",
    "\n",
    "print(len(houseprices))\n",
    "print(len(alien_invasion))"
   ]
  },
  {
   "cell_type": "code",
   "execution_count": 3,
   "id": "950cf347-47c5-4bb6-9894-fe1a99f86916",
   "metadata": {},
   "outputs": [
    {
     "name": "stdout",
     "output_type": "stream",
     "text": [
      "[{'content': '# 🏠 House Price Prediction (Kaggle - Ames Housing Dataset)\\n\\nA machine learning project for predicting house prices using the **Ames Housing Dataset**, as featured in the Kaggle competition *House Prices: Advanced Regression Techniques*. This project applies regression models to estimate house values based on property features such as location, size, quality, and condition.\\n\\n---\\n\\n## 📌 Project Overview\\nThis repository demonstrates the application of machine learning algorithms to structured/tabular data prediction.  \\n- **Dataset**: [Kaggle – House Prices: Advanced Regression Techniques](https://www.kaggle.com/c/house-prices-advanced-regression-techniques) (2,930 properties, 80+ features).  \\n- **Frameworks**: **Scikit-learn, Pandas, NumPy, Matplotlib/Seaborn, XGBoost**  \\n- **Task**: Supervised learning (regression).  \\n\\nThe goal is to preprocess the dataset, build predictive models, and evaluate their performance in estimating house prices.\\n\\n---\\n\\n## 🧠 Features\\n- Data preprocessing (handling missing values, encoding categorical features, feature scaling).  \\n- Exploratory Data Analysis (EDA) with data visualization.  \\n- XGBoost\\n- Model evaluation using **RMSE, MAE, and R² Score**.  \\n- Hyperparameter tuning with GridSearchCV/.  \\n- Visualization of feature importance and residual errors.  \\n- Submission file generation for Kaggle competition.  \\n\\n---', 'filename': 'House-Price-Prediction-Ames-Housing-Dataset--main/README.md'}]\n"
     ]
    }
   ],
   "source": [
    "print(houseprices)\n"
   ]
  },
  {
   "cell_type": "code",
   "execution_count": 4,
   "id": "04b65575-bc51-4df7-8ec2-08ce6704e917",
   "metadata": {},
   "outputs": [
    {
     "name": "stdout",
     "output_type": "stream",
     "text": [
      "[{'content': \"# 👾 Alien Invasion Clone  \\n\\nA fun **2D arcade-style game** built with Python’s `pygame` library. Inspired by the classic *Space Invaders*, this project is a clone of the **Alien Invasion** game from Eric Matthes' *Python Crash Course*.  \\n\\n---\\n\\n## 🚀 Features  \\n- Player-controlled spaceship with smooth movement.  \\n- Laser bullets to shoot down alien fleets.  \\n- Increasing difficulty with each wave.  \\n- Game-over and restart mechanics.  \\n- Simple yet engaging retro-style gameplay.  \\n\\n---\\n\\n## 🛠️ Tech Stack  \\n- **Python 3.x**  \\n- **Pygame**  \\n\\n---\\n\\n## 📦 Installation  \\n\\nClone the repository and install dependencies:  \\n\\n```bash\\n# Clone the repo\\ngit clone https://github.com/your-username/alien-invasion-clone.git\\ncd alien-invasion-clone\\n\\n# (Optional) Create virtual environment\\npython -m venv venv\\nsource venv/bin/activate   # On Mac/Linux\\nvenv\\\\Scripts\\\\activate      # On Windows\", 'filename': 'Alien-invasion-clone--main/README.md'}]\n"
     ]
    }
   ],
   "source": [
    "print(alien_invasion)"
   ]
  },
  {
   "cell_type": "code",
   "execution_count": null,
   "id": "62b3c2e7-f58b-4af1-9e1a-f64d32d457ff",
   "metadata": {},
   "outputs": [],
   "source": []
  }
 ],
 "metadata": {
  "kernelspec": {
   "display_name": "Python 3 (ipykernel)",
   "language": "python",
   "name": "python3"
  },
  "language_info": {
   "codemirror_mode": {
    "name": "ipython",
    "version": 3
   },
   "file_extension": ".py",
   "mimetype": "text/x-python",
   "name": "python",
   "nbconvert_exporter": "python",
   "pygments_lexer": "ipython3",
   "version": "3.10.5"
  }
 },
 "nbformat": 4,
 "nbformat_minor": 5
}
